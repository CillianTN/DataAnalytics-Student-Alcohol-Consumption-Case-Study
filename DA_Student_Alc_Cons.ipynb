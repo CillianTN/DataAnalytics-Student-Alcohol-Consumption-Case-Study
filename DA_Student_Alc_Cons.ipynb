{
  "cells": [
    {
      "metadata": {
        "id": "z5M50yYB4CZm"
      },
      "cell_type": "markdown",
      "source": [
        "# Applying the Data Analysis Method to a Research Problem"
      ]
    },
    {
      "metadata": {
        "id": "jhcx2KP64CZn"
      },
      "cell_type": "markdown",
      "source": [
        "# 1. Determine Research Objectives and Assess the Situation  <a class=\"anchor\" id=\"Businessunderstanding\"></a>\n",
        "The first stage of the process is to understand what you want to accomplish from a research perspective. You may have competing objectives and constraints that must be properly balanced. The goal of this stage of the process is to uncover important factors that could influence the outcome of the project. Neglecting this step can mean that a great deal of effort is put into producing the right answers to the wrong questions."
      ]
    },
    {
      "metadata": {
        "id": "FXKu5dgb4CZn"
      },
      "cell_type": "markdown",
      "source": [
        "## 1.1. Alcohol Consumption and the Effects on Students <a class=\"anchor\" id=\"Title\"></a>\n",
        "- Alcohol consumption by Students\n",
        "- The effects it has\n",
        "- What might cause it"
      ]
    },
    {
      "metadata": {
        "id": "yj9C5yCl4CZp"
      },
      "cell_type": "markdown",
      "source": [
        "## 1.2. Introduction <a class=\"anchor\" id=\"Introduction\"></a> \n",
        "- This analysis is going to show the effects that alcohol consumption has on students, and how it affects their education\n",
        "- The goal of this analysis is to also try and determine any similar factors family may have that causes students to drink excess amounts\n",
        "- What are the relevant themes and issues\n",
        "- This is an important issue, as in many colleges and schools around the world, there tends to be a strong 'drinking' culture among students. As they say \"Live while you're young, you have your whole life ahead of you to be taking things seriously\".   \n",
        "- Explain how you are going to go about responding to the brief. \n",
        "- If you are going to test a hypothesis in your research, include this at the end of your introduction. \n",
        "- Include a brief outline of your method of enquiry. \n",
        "- State the limits of your research and reasons for them.\n",
        " "
      ]
    },
    {
      "metadata": {
        "id": "gdPQP_Bw4CZq"
      },
      "cell_type": "markdown",
      "source": [
        "## 1.3.Terminology and Key Words<a class=\"anchor\" id=\"Terminology\"></a>\n",
        "- Data Set was acquired from Kaggle [Student Alcohol Consumption](https://www.kaggle.com/datasets/uciml/student-alcohol-consumption)\n",
        "- A glossary of data mining terminology, illustrated with examples relevant to the business problem in question. \n",
        "- Data Meaning:\n",
        "\n",
        "1.   School - Student's school (binary: 'GP' - Gabriel Pereira or 'MS' - Mousinho da Silveira)\n",
        "\n",
        "2.   Sex - Student's Sex (Binary: 'F' = Female, Binary: 'M' = Male)\n",
        "\n",
        "3.   Age - Student's Age (Numeric: From 15 - 22) \n",
        "\n",
        "4.   Address - Student's Home Address Type (Binary: 'U' = Urban, Binary: 'R' = Rural)\n",
        "\n",
        "5.   FamSize - Family Size (Binary: 'LE3' = Less, or equal to 3 or 'GT3' which is greater than 3)\n",
        "\n",
        "6.   pStatus - Parent's cohabitation status (Binary 'T' = together, or 'A' = Apart)\n",
        "\n",
        "7.   mEdu - Mother's Education (Numeric: 0 - None, 1 - Primary Education (4th grade), 2 – 5th to 9th Grade, 3 – Secondary Education or 4 – College/University Level)\n",
        "\n",
        "8.   fEdu - Father's Education (Numeric: 0 - None, 1 - Primary Education (4th grade), 2 – 5th to 9th Grade, 3 – Secondary Education or 4 – College/University Level)\n",
        "\n",
        "9.   mJob - (Nominal: 'Teacher' = Teaching , 'Health' = Care Related e.g. Nurse/Doctor , 'Services' = Civil e.g. Administrative or Police, 'At_Home' or 'Other')\n",
        "\n",
        "10.   fJob - (Nominal: 'Teacher' = Teaching , 'Health' = Care Related e.g. Nurse/Doctor , 'Services' = Civil e.g. Administrative or Police, 'At_Home' or 'Other')\n",
        "\n",
        "11.   Reason - Reason to choose the school they're in (Nominal: Close to home = 'Home'. School Reputation =  'Reputation'. Course preference = 'Course'. Other reason = 'Other'.\n",
        "\n",
        "12.   Guardian - Student's guardian (Nominal: 'Mother', 'Father' or 'Other')\n",
        "\n",
        "13.   TravelTime - Home to School Travel Time (Numeric: 1 = '<15 min', 2 = '15 to 30 min', 3 = '30 min to 1 hour', or 4 = '>1 hour')  \n",
        "\n",
        "14.   StudyTime - Weekly Study Time (Numeric: 1 = '<2 hours',  2 = '2 to 5 hours', 3 = '5 to 10 hours', or 4 = ' >10 hours ') \n",
        "\n",
        "15.   Failures - Number of past class failures (Numeric: n if 1<=n<3, else 4) \n",
        "\n",
        "16.   SchoolSup - If there's any extra educational support for the student (Binary: yes or no)\n",
        "\n",
        "17.   FamSup - family educational support (binary: yes or no)  \n",
        "\n",
        "18.   Paid - If there's extra paid classes within the course subject (Math or Portuguese) (Binary: yes or no)\n",
        "\n",
        "19.   Activities - Does the student participate in extra-curricular activities (Binary: yes or no) \n",
        "\n",
        "20.   Nursery - Did the student go to a nursery school (Play School) (Binary: yes or no)  \n",
        "\n",
        "21.   Higher - Wants to take higher education ie go to college/university (Binary: yes or no)\n",
        "\n",
        "22.   Internet - Internet access at home (Binary: yes or no) \n",
        "\n",
        "23.   Romantic - Is the student in a romantic relationship (Binary: yes or no)\n",
        "\n",
        "24.   FamRel - Quality of family relationships (numeric: From 1 = Very Bad to 5 = Excellent)\n",
        "\n",
        "25.   FreeTime - Free time after school (Numeric: From 1 - Very Low to 5 - Very High)\n",
        "\n",
        "26.   GoOut - Frequency student goes out with friends (Numeric: From 1 = Very Low to 5 = Very High)\n",
        "\n",
        "27.   dAlc -  Workday alcohol consumption (Numeric: From 1 = Very Low to 5 = Very High)\n",
        "\n",
        "28.   wAlc - Weekend alcohol consumption (Numeric: From 1 = Very Low to 5 = Very High)\n",
        "\n",
        "29.   Health - Current health status (Numeric: From 1 = Very Low to 5 = Very High)\n",
        "\n",
        "30.   Absences - Number of school absences (Numeric: from 0 to 93) \n",
        "\n",
        "These grades are related with the course subject, in this DataSet, the subject is Math.\n",
        "\n",
        "  1.  G1 - first period grade (numeric: from 0 to 20)\n",
        "  2.   G2 - second period grade (numeric: from 0 to 20)\n",
        "  3.  G3 - final grade (numeric: from 0 to 20, output target)\n"
      ]
    },
    {
      "metadata": {
        "id": "4HVDehMN4CZq"
      },
      "cell_type": "markdown",
      "source": [
        "## 1.2.Background <a class=\"anchor\" id=\"Background\"></a>\n",
        "- Surveys publications (books, journals and sometimes conference papers) on work that has already been done on the topic of your report. \n",
        "- It should only include studies that have direct relevance to your research.  \n",
        "- Introduce your review by explaining how you went about finding your materials, and any clear trends in research that have emerged.  \n",
        "- Group your texts in themes. Write about each theme as a separate section, giving a critical summary of each piece of work, and showing its relevance to your research. \n",
        "- Conclude with how the review has informed your research (things you’ll be building on, gaps you’ll be filling etc.). \n"
      ]
    },
    {
      "metadata": {
        "id": "2aeDYQ4H4CZr"
      },
      "cell_type": "markdown",
      "source": [
        " ## 1.3 Research Question <a class=\"anchor\" id=\"Research Question\"></a>"
      ]
    },
    {
      "metadata": {
        "id": "DIwc1cuQ4CZr"
      },
      "cell_type": "markdown",
      "source": [
        "- What Questions Are We Trying To Answer?\n",
        "- In general a research question should be clear, focused, and complex.\n",
        "- When writing this you need to consider how you will limit the study. i.e What are you not going to ask? This should then help in the development of any sub questions."
      ]
    },
    {
      "metadata": {
        "id": "e5Ly0WId4CZr"
      },
      "cell_type": "markdown",
      "source": [
        " ## 1.4 Methodology/Methods <a class=\"anchor\" id=\"Methodology/Methods\"></a>"
      ]
    },
    {
      "metadata": {
        "id": "wVWpIDER4CZs"
      },
      "cell_type": "markdown",
      "source": [
        "- State clearly how you carried out your investigation. \n",
        "- Explain why you chose this particular method. Is it based on the research in your background section? \n",
        "- Include techniques and any equipment you used. for exampl any python libraies or external tools like excel or screen scraping.\n",
        "- If there were participants in your research, who were they? How many? How were they selected?  \n",
        "- Write this section concisely but thoroughly.  \n",
        "- You know what you did, but could a reader follow your description?   "
      ]
    },
    {
      "metadata": {
        "id": "GUI0ldLd4CZs"
      },
      "cell_type": "markdown",
      "source": [
        "# 2. Stage  Two - Data Understanding <a class=\"anchor\" id=\"Dataunderstanding\"></a>\n",
        "The second stage of the process requires you to acquire the data listed in the project resources. This initial collection includes data loading, if this is necessary for data understanding. For example, if you use a specific tool for data understanding, it makes perfect sense to load your data into this tool. If you acquire multiple data sources then you need to consider how and when you're going to integrate these."
      ]
    },
    {
      "metadata": {
        "id": "zbd_zyLl4CZt"
      },
      "cell_type": "markdown",
      "source": [
        "## 2.1 Initial Data Report <a class=\"anchor\" id=\"Datareport\"></a>\n",
        "Initial data collection report - \n",
        "List the data sources acquired together with their locations, the methods used to acquire them and any problems encountered. Record problems you encountered and any resolutions achieved. This will help both with future replication of this project and with the execution of similar future projects."
      ]
    },
    {
      "metadata": {
        "trusted": true,
        "id": "Yvnph_5t4CZt"
      },
      "cell_type": "code",
      "source": [
        "# Import Libraries Required\n",
        "import pandas as pd\n",
        "import matplotlib.pyplot as plt\n",
        "%matplotlib inline\n",
        "import numpy as np\n",
        "import seaborn as sns"
      ],
      "execution_count": null,
      "outputs": []
    },
    {
      "metadata": {
        "trusted": true,
        "id": "9wJ0vKHx4CZu"
      },
      "cell_type": "code",
      "source": [
        "#Data source: \n",
        "#Source Query location: \n",
        "path =  'F:/Projects/Data Science/Defaults/train_/train.csv'\n",
        "# reads the data from the file - denotes as CSV, it has no header, sets column headers\n",
        "df =  pd.read_csv(path, sep=',') "
      ],
      "execution_count": null,
      "outputs": []
    },
    {
      "metadata": {
        "id": "MdjPyhbi4CZu"
      },
      "cell_type": "markdown",
      "source": [
        "## 2.2 Describe Data <a class=\"anchor\" id=\"Describedata\"></a>\n",
        "Data description report - Describe the data that has been acquired including its format, its quantity (for example, the number of records and fields in each table), the identities of the fields and any other surface features which have been discovered. Evaluate whether the data acquired satisfies your requirements."
      ]
    },
    {
      "metadata": {
        "trusted": true,
        "id": "-YDCwTYp4CZu"
      },
      "cell_type": "code",
      "source": [
        "df.columns"
      ],
      "execution_count": null,
      "outputs": []
    },
    {
      "metadata": {
        "trusted": true,
        "id": "9zIllZcq4CZv"
      },
      "cell_type": "code",
      "source": [
        "df.shape"
      ],
      "execution_count": null,
      "outputs": []
    },
    {
      "metadata": {
        "trusted": true,
        "id": "7uSEeaw14CZv"
      },
      "cell_type": "code",
      "source": [
        "df.dtypes"
      ],
      "execution_count": null,
      "outputs": []
    },
    {
      "metadata": {
        "trusted": true,
        "id": "eHfSIvrs4CZv"
      },
      "cell_type": "code",
      "source": [
        "df.describe()"
      ],
      "execution_count": null,
      "outputs": []
    },
    {
      "metadata": {
        "trusted": true,
        "id": "Mj2KooM74CZv"
      },
      "cell_type": "code",
      "source": [
        "df.info()"
      ],
      "execution_count": null,
      "outputs": []
    },
    {
      "metadata": {
        "trusted": true,
        "id": "rDdmryx04CZv"
      },
      "cell_type": "code",
      "source": [
        "df.head(5)"
      ],
      "execution_count": null,
      "outputs": []
    },
    {
      "metadata": {
        "id": "zmT_oMnW4CZx"
      },
      "cell_type": "markdown",
      "source": [
        "## 2.3 Verify Data Quality <a class=\"anchor\" id=\"Verifydataquality\"></a>\n",
        "\n",
        "Examine the quality of the data, addressing questions such as:\n",
        "\n",
        "- Is the data complete (does it cover all the cases required)?\n",
        "- Is it correct, or does it contain errors and, if there are errors, how common are they?\n",
        "- Are there missing values in the data? If so, how are they represented, where do they occur, and how common are they?"
      ]
    },
    {
      "metadata": {
        "id": "3IZ1J3ti4CZx"
      },
      "cell_type": "markdown",
      "source": [
        "### 2.3.1. Missing Data <a class=\"anchor\" id=\"MissingData\"></a>\n",
        "In addition to incorrect datatypes, another common problem when dealing with real-world data is missing values. These can arise for many reasons and have to be either filled in or removed before we train a machine learning model. First, let’s get a sense of how many missing values are in each column \n",
        "\n",
        "While we always want to be careful about removing information, if a column has a high percentage of missing values, then it probably will not be useful to our model. The threshold for removing columns should depend on the problem"
      ]
    },
    {
      "metadata": {
        "trusted": true,
        "id": "9zUqjsZn4CZx"
      },
      "cell_type": "code",
      "source": [
        "df.isnull().sum()"
      ],
      "execution_count": null,
      "outputs": []
    },
    {
      "metadata": {
        "trusted": true,
        "id": "CHfaGJhG4CZx"
      },
      "cell_type": "code",
      "source": [
        "def missing_values_table(df):\n",
        "        mis_val = df.isnull().sum()\n",
        "        mis_val_percent = 100 * df.isnull().sum() / len(df)\n",
        "        mis_val_table = pd.concat([mis_val, mis_val_percent], axis=1)\n",
        "        mis_val_table_ren_columns = mis_val_table.rename(\n",
        "        columns = {0 : 'Missing Values', 1 : '% of Total Values'})\n",
        "        mis_val_table_ren_columns = mis_val_table_ren_columns[\n",
        "            mis_val_table_ren_columns.iloc[:,1] != 0].sort_values(\n",
        "        '% of Total Values', ascending=False).round(1)\n",
        "        print (\"Your selected dataframe has \" + str(df.shape[1]) + \" columns.\\n\"      \n",
        "            \"There are \" + str(mis_val_table_ren_columns.shape[0]) +\n",
        "              \" columns that have missing values.\")\n",
        "        return mis_val_table_ren_columns"
      ],
      "execution_count": null,
      "outputs": []
    },
    {
      "metadata": {
        "trusted": true,
        "id": "4BqtBNsx4CZy"
      },
      "cell_type": "code",
      "source": [
        "missing_values_table(df)"
      ],
      "execution_count": null,
      "outputs": []
    },
    {
      "metadata": {
        "trusted": true,
        "id": "vwMyfnEI4CZy"
      },
      "cell_type": "code",
      "source": [
        "# Get the columns with > 50% missing\n",
        "missing_df = missing_values_table(df);\n",
        "missing_columns = list(missing_df[missing_df['% of Total Values'] > 50].index)\n",
        "print('We will remove %d columns.' % len(missing_columns))"
      ],
      "execution_count": null,
      "outputs": []
    },
    {
      "metadata": {
        "trusted": true,
        "id": "WtInnNod4CZy"
      },
      "cell_type": "code",
      "source": [
        "# Drop the columns\n",
        "df = df.drop(list(missing_columns))"
      ],
      "execution_count": null,
      "outputs": []
    },
    {
      "metadata": {
        "id": "SjVBmi-x4CZy"
      },
      "cell_type": "markdown",
      "source": [
        "### 2.3.2. Outliers <a class=\"anchor\" id=\"Outliers\"></a>\n",
        "At this point, we may also want to remove outliers. These can be due to typos in data entry, mistakes in units, or they could be legitimate but extreme values. For this project, we will remove anomalies based on the definition of extreme outliers:\n",
        "\n",
        "https://www.itl.nist.gov/div898/handbook/prc/section1/prc16.htm\n",
        "\n",
        "- Below the first quartile − 3 ∗ interquartile range\n",
        "- Above the third quartile + 3 ∗ interquartile range"
      ]
    },
    {
      "metadata": {
        "id": "VdGhzddr4CZz"
      },
      "cell_type": "markdown",
      "source": [
        "## 2.4 Initial Data Exploration  <a class=\"anchor\" id=\"Exploredata\"></a>\n",
        "During this stage you'll address data mining questions using querying, data visualization and reporting techniques. These ***may*** include:\n",
        "\n",
        "- **Distribution** of key attributes (for example, the target attribute of a prediction task)\n",
        "- **Relationships** between pairs or small numbers of attributes\n",
        "- Results of **simple aggregations**\n",
        "- **Properties** of significant sub-populations\n",
        "- **Simple** statistical analyses\n",
        "\n",
        "These analyses may directly address your data mining goals. They may also contribute to or refine the data description and quality reports, and feed into the transformation and other data preparation steps needed for further analysis. \n",
        "\n",
        "- **Data exploration report** - Describe results of your data exploration, including first findings or initial hypothesis and their impact on the remainder of the project. If appropriate you could include graphs and plots here to indicate data characteristics that suggest further examination of interesting data subsets."
      ]
    },
    {
      "metadata": {
        "id": "SkGFbvmC4CZz"
      },
      "cell_type": "markdown",
      "source": [
        "### 2.4.1 Distributions  <a class=\"anchor\" id=\"Distributions\"></a>"
      ]
    },
    {
      "metadata": {
        "trusted": true,
        "id": "S03n1rv_4CZz"
      },
      "cell_type": "code",
      "source": [
        "def count_values_table(df):\n",
        "        count_val = df.value_counts()\n",
        "        count_val_percent = 100 * df.value_counts() / len(df)\n",
        "        count_val_table = pd.concat([count_val, count_val_percent.round(1)], axis=1)\n",
        "        count_val_table_ren_columns = count_val_table.rename(\n",
        "        columns = {0 : 'Count Values', 1 : '% of Total Values'})\n",
        "        return count_val_table_ren_columns"
      ],
      "execution_count": null,
      "outputs": []
    },
    {
      "metadata": {
        "trusted": true,
        "id": "dlTKQQK64CZz"
      },
      "cell_type": "code",
      "source": [
        "# Histogram\n",
        "def hist_chart(df, col):\n",
        "        plt.style.use('fivethirtyeight')\n",
        "        plt.hist(df[col].dropna(), edgecolor = 'k');\n",
        "        plt.xlabel(col); plt.ylabel('Number of Entries'); \n",
        "        plt.title('Distribution of '+col);"
      ],
      "execution_count": null,
      "outputs": []
    },
    {
      "metadata": {
        "trusted": true,
        "id": "CztNoHqq4CZ0"
      },
      "cell_type": "code",
      "source": [
        "col = 'account_risk_band'\n",
        "# Histogram & Results\n",
        "hist_chart(df, col)\n",
        "count_values_table(df.account_risk_band)"
      ],
      "execution_count": null,
      "outputs": []
    },
    {
      "metadata": {
        "id": "xYMIMKDO4CZ0"
      },
      "cell_type": "markdown",
      "source": [
        "### 2.4.2 Correlations  <a class=\"anchor\" id=\"Correlations\"></a>\n",
        "Can we derive any correlation from this data-set. Pairplot chart gives us correlations, distributions and regression path\n",
        "Correlogram are awesome for exploratory analysis. It allows to quickly observe the relationship between every variable of your matrix. \n",
        "It is easy to do it with seaborn: just call the pairplot function\n",
        "\n",
        "Pairplot Documentation cab be found here: https://seaborn.pydata.org/generated/seaborn.pairplot.html"
      ]
    },
    {
      "metadata": {
        "trusted": true,
        "id": "wCDCSAI64CZ0"
      },
      "cell_type": "code",
      "source": [
        "#Seaborn allows to make a correlogram or correlation matrix really easily. \n",
        "#sns.pairplot(df.dropna().drop(['x'], axis=1), hue='y', kind ='reg')\n",
        "\n",
        "#plt.show()\n"
      ],
      "execution_count": null,
      "outputs": []
    },
    {
      "metadata": {
        "trusted": true,
        "id": "k1PcwrEr4CZ0"
      },
      "cell_type": "code",
      "source": [
        "#df_agg = df.drop(['x'], axis=1).groupby(['y']).sum()\n",
        "df_agg = df.groupby(['y']).sum()"
      ],
      "execution_count": null,
      "outputs": []
    },
    {
      "metadata": {
        "id": "obLCNVET4CZ1"
      },
      "cell_type": "markdown",
      "source": [
        "## 2.5 Data Quality Report <a class=\"anchor\" id=\"Dataqualityreport\"></a>\n",
        "List the results of the data quality verification. If quality problems exist, suggest possible solutions. Solutions to data quality problems generally depend heavily on both data and business knowledge."
      ]
    },
    {
      "metadata": {
        "trusted": true,
        "id": "g3HWSITl4CZ1"
      },
      "cell_type": "code",
      "source": [],
      "execution_count": null,
      "outputs": []
    },
    {
      "metadata": {
        "id": "2cfOioIG4CZ2"
      },
      "cell_type": "markdown",
      "source": [
        "# 3. Stage Three - Data Preperation <a class=\"anchor\" id=\"Datapreperation\"></a>\n",
        "This is the stage of the project where you decide on the data that you're going to use for analysis. The criteria you might use to make this decision include the relevance of the data to your data mining goals, the quality of the data, and also technical constraints such as limits on data volume or data types. Note that data selection covers selection of attributes (columns) as well as selection of records (rows) in a table."
      ]
    },
    {
      "metadata": {
        "id": "tu6H_Lru4CZ2"
      },
      "cell_type": "markdown",
      "source": [
        "## 3.1 Select Your Data <a class=\"anchor\" id=\"Selectyourdata\"></a>\n",
        "This is the stage of the project where you decide on the data that you're going to use for analysis. The criteria you might use to make this decision include the relevance of the data to your data mining goals, the quality of the data, and also technical constraints such as limits on data volume or data types. Note that data selection covers selection of attributes (columns) as well as selection of records (rows) in a table.\n",
        "\n",
        "Rationale for inclusion/exclusion - List the data to be included/excluded and the reasons for these decisions."
      ]
    },
    {
      "metadata": {
        "trusted": true,
        "id": "sfmbKmuK4CZ2"
      },
      "cell_type": "code",
      "source": [
        "X_train_regr = df.drop(['date_maint', 'account_open_date'], axis = 1)\n",
        "X_train = df.drop(['target', 'date_maint', 'account_open_date'], axis = 1)\n",
        "X_test = test.drop(['date_maint', 'account_open_date'], axis = 1)"
      ],
      "execution_count": null,
      "outputs": []
    },
    {
      "metadata": {
        "id": "ZhNF-sF34CZ2"
      },
      "cell_type": "markdown",
      "source": [
        "## 3.2 Clean The Data <a class=\"anchor\" id=\"Cleansethedata\"></a>\n",
        "This task involves raise the data quality to the level required by the analysis techniques that you've selected. This may involve selecting clean subsets of the data, the insertion of suitable defaults, or more ambitious techniques such as the estimation of missing data by modelling."
      ]
    },
    {
      "metadata": {
        "id": "AOZd-fj94CZ2"
      },
      "cell_type": "markdown",
      "source": [
        "### 3.2.1 Label Encoding <a class=\"anchor\" id=\"labelEncoding\"></a>\n",
        "Label Encoding to turn Categorical values to Integers\n",
        "\n",
        "An approach to encoding categorical values is to use a technique called label encoding. Label encoding is simply converting each value in a column to a number. For example, the body_style column contains 5 different values. We could choose to encode it like this:\n",
        "\n",
        "convertible -> 0\n",
        "hardtop -> 1\n",
        "hatchback -> 2\n",
        "sedan -> 3\n",
        "wagon -> 4\n",
        "http://pbpython.com/categorical-encoding.html"
      ]
    },
    {
      "metadata": {
        "trusted": true,
        "id": "HMOIsG4Q4CZ2"
      },
      "cell_type": "code",
      "source": [
        "from sklearn.preprocessing import OneHotEncoder, LabelEncoder\n",
        "for col in CAT_COLS:\n",
        "        encoder = LabelEncoder()\n",
        "        X_train[col] = encoder.fit_transform(X_train[col].astype(str))\n",
        "        X_test[col] = encoder.transform(X_test[col].astype(str))"
      ],
      "execution_count": null,
      "outputs": []
    },
    {
      "metadata": {
        "trusted": true,
        "id": "oSaZu1W94CZ3"
      },
      "cell_type": "code",
      "source": [
        "df[\"column\"] = df[\"column\"].astype('category')\n",
        "df.dtypes"
      ],
      "execution_count": null,
      "outputs": []
    },
    {
      "metadata": {
        "trusted": true,
        "id": "nB2KUDwZ4CZ3"
      },
      "cell_type": "code",
      "source": [
        "df[\"column\"] = df[\"column\"].cat.codes\n",
        "df.head()"
      ],
      "execution_count": null,
      "outputs": []
    },
    {
      "metadata": {
        "id": "sT-1U8hq4CZ3"
      },
      "cell_type": "markdown",
      "source": [
        "### 3.2.2 Drop Unnecessary Columns <a class=\"anchor\" id=\"DropCols\"></a>\n",
        "Sometimes we may not need certain columns. We can drop to keep only relevent data"
      ]
    },
    {
      "metadata": {
        "trusted": true,
        "id": "XE7Cw_c64CZ3"
      },
      "cell_type": "code",
      "source": [
        "del_col_list = ['col1', 'col2']\n",
        "\n",
        "df = df.drop(del_col_list, axis=1)\n",
        "df.head()"
      ],
      "execution_count": null,
      "outputs": []
    },
    {
      "metadata": {
        "id": "l_WTB0qi4CZ4"
      },
      "cell_type": "markdown",
      "source": [
        "### 3.2.3 Altering Data Types <a class=\"anchor\" id=\"AlteringDatatypes\"></a>\n",
        "Sometimes we may need to alter data types. Including to/from object datatypes"
      ]
    },
    {
      "metadata": {
        "trusted": true,
        "id": "q-OMff5W4CZ4"
      },
      "cell_type": "code",
      "source": [
        "#df['date'] = pd.to_datetime(df['date'])"
      ],
      "execution_count": null,
      "outputs": []
    },
    {
      "metadata": {
        "id": "hjTNYkwe4CZ4"
      },
      "cell_type": "markdown",
      "source": [
        "### 3.2.4 Dealing With Zeros <a class=\"anchor\" id=\"DealingZeros\"></a>\n",
        "Replacing all the zeros from cols. **Note** You may not want to do this - add / remove as required"
      ]
    },
    {
      "metadata": {
        "trusted": true,
        "id": "Ou5KtmMs4CZ4"
      },
      "cell_type": "code",
      "source": [
        "#cols = ['col1', 'col2']\n",
        "#df[cols] = df[cols].replace(0, np.nan)"
      ],
      "execution_count": null,
      "outputs": []
    },
    {
      "metadata": {
        "trusted": true,
        "id": "g8EDuI1c4CZ5"
      },
      "cell_type": "code",
      "source": [
        "# dropping all the rows with na in the columns mentioned above in the list.\n",
        "\n",
        "# df.dropna(subset=cols, inplace=True)\n"
      ],
      "execution_count": null,
      "outputs": []
    },
    {
      "metadata": {
        "id": "dUb7Igk64CZ5"
      },
      "cell_type": "markdown",
      "source": [
        "### 3.2.5 Dealing With Duplicates <a class=\"anchor\" id=\"DealingDuplicates\"></a>\n",
        "Remove duplicate rows. **Note** You may not want to do this - add / remove as required"
      ]
    },
    {
      "metadata": {
        "trusted": true,
        "id": "v9vrjlu94CZ5"
      },
      "cell_type": "code",
      "source": [
        "#df = df.drop_duplicates(keep='first')"
      ],
      "execution_count": null,
      "outputs": []
    },
    {
      "metadata": {
        "id": "-J95aCzq4CZ5"
      },
      "cell_type": "markdown",
      "source": [
        "## 3.3 Construct Required Data   <a class=\"anchor\" id=\"Constructrequireddata\"></a>\n",
        "This task includes constructive data preparation operations such as the production of derived attributes or entire new records, or transformed values for existing attributes.\n",
        "\n",
        "**Derived attributes** - These are new attributes that are constructed from one or more existing attributes in the same record, for example you might use the variables of length and width to calculate a new variable of area.\n",
        "\n",
        "**Generated records** - Here you describe the creation of any completely new records. For example you might need to create records for customers who made no purchase during the past year. There was no reason to have such records in the raw data, but for modelling purposes it might make sense to explicitly represent the fact that particular customers made zero purchases.\n"
      ]
    },
    {
      "metadata": {
        "trusted": true,
        "id": "bTZRnLGl4CZ6"
      },
      "cell_type": "code",
      "source": [],
      "execution_count": null,
      "outputs": []
    },
    {
      "metadata": {
        "id": "1dNY3TlY4CZ6"
      },
      "cell_type": "markdown",
      "source": [
        "## 3.4 Integrate Data  <a class=\"anchor\" id=\"Integratedata\"></a>\n",
        "These are methods whereby information is combined from multiple databases, tables or records to create new records or values.\n",
        "\n",
        "**Merged data** - Merging tables refers to joining together two or more tables that have different information about the same objects. For example a retail chain might have one table with information about each store’s general characteristics (e.g., floor space, type of mall), another table with summarised sales data (e.g., profit, percent change in sales from previous year), and another with information about the demographics of the surrounding area. Each of these tables contains one record for each store. These tables can be merged together into a new table with one record for each store, combining fields from the source tables.\n",
        "\n",
        "**Aggregations** - Aggregations refers to operations in which new values are computed by summarising information from multiple records and/or tables. For example, converting a table of customer purchases where there is one record for each purchase into a new table where there is one record for each customer, with fields such as number of purchases, average purchase amount, percent of orders charged to credit card, percent of items under promotion etc.\n"
      ]
    },
    {
      "metadata": {
        "trusted": true,
        "id": "BnqLcNM94CZ6"
      },
      "cell_type": "code",
      "source": [],
      "execution_count": null,
      "outputs": []
    },
    {
      "metadata": {
        "id": "nHl0DY4N4CZ6"
      },
      "cell_type": "markdown",
      "source": [
        "## 3.5 Primary Data Set  <a class=\"anchor\" id=\"Primary Data Set\"></a>\n",
        "Construct Our Primary Data Set, this is the pre-processed data set that will be used for the data modeling experiments."
      ]
    },
    {
      "metadata": {
        "trusted": true,
        "id": "Ye81yOQB4CZ6"
      },
      "cell_type": "code",
      "source": [],
      "execution_count": null,
      "outputs": []
    },
    {
      "metadata": {
        "id": "j2CxfMHm4CZ6"
      },
      "cell_type": "markdown",
      "source": [
        "# 4. Modelling <a class=\"anchor\" id=\"Modelling\"></a>\n",
        "As the first step in modelling, you'll select the actual modelling technique that you'll be using. Although you may have already selected a tool during the business understanding phase, at this stage you'll be selecting the specific modelling technique e.g. Association Rules with Apriori,  decision-tree building with C5.0, Clustering with K-Meand or neural network generation with back propagation. If multiple techniques are applied, perform this task separately for each technique.\n",
        "\n"
      ]
    },
    {
      "metadata": {
        "id": "5Dk7RFw64CZ7"
      },
      "cell_type": "markdown",
      "source": [
        "## 4.1. Modelling technique <a class=\"anchor\" id=\"ModellingTechnique\"></a>\n",
        "Document the actual modelling technique that is to be used.\n",
        "\n",
        "Import Models below:"
      ]
    },
    {
      "metadata": {
        "trusted": true,
        "id": "xQSu2Mxu4CZ7"
      },
      "cell_type": "code",
      "source": [],
      "execution_count": null,
      "outputs": []
    },
    {
      "metadata": {
        "id": "qeDAeBLA4CZ7"
      },
      "cell_type": "markdown",
      "source": [
        "## 4.2. Modelling assumptions <a class=\"anchor\" id=\"ModellingAssumptions\"></a>\n",
        "Many modelling techniques make specific assumptions about the data, for example that all attributes have uniform distributions, no missing values allowed, class attribute must be symbolic etc. Record any assumptions made.\n",
        "\n",
        "- \n",
        "- \n"
      ]
    },
    {
      "metadata": {
        "id": "zTCGelJW4CZ7"
      },
      "cell_type": "markdown",
      "source": [
        "## 5.3. Build Model <a class=\"anchor\" id=\"BuildModel\"></a>\n",
        "Run the modelling tool on the prepared dataset to create one or more models.\n",
        "\n",
        "**Parameter settings** - With any modelling tool there are often a large number of parameters that can be adjusted. List the parameters and their chosen values, along with the rationale for the choice of parameter settings.\n",
        "\n",
        "**Models** - These are the actual models produced by the modelling tool, not a report on the models.\n",
        "\n",
        "**Model descriptions** - Describe the resulting models, report on the interpretation of the models and document any difficulties encountered with their meanings."
      ]
    },
    {
      "metadata": {
        "trusted": true,
        "id": "cGiERxWD4CZ7"
      },
      "cell_type": "code",
      "source": [],
      "execution_count": null,
      "outputs": []
    },
    {
      "metadata": {
        "collapsed": true,
        "id": "Kk29Asyt4CZ7"
      },
      "cell_type": "markdown",
      "source": [
        "## 6. Results/Data/Findings <a class=\"anchor\" id=\"Results\"></a>\n",
        "- This section has only one job, which is to present the findings of your research as simply as possible. \n",
        "- Use the format that will achieve this most effectively: e.g. text, graphs, tables or diagrams. \n",
        "- Don’t repeat the same information in two visual formats (e.g. a graph and a table).  \n",
        "- Label your graphs and tables clearly. \n",
        "- Give each figure a title and describe in words what the figure demonstrates. \n",
        "- Save your interpretation of the results for the Discussion section. \n",
        "- In most data mining projects a single technique is applied more than once and data mining results are generated with several different parameters \n",
        "- At this stage you should rank the models and assess them according to the evaluation criteria. \n"
      ]
    },
    {
      "metadata": {
        "trusted": true,
        "id": "4RBlqhUP4CZ7"
      },
      "cell_type": "code",
      "source": [],
      "execution_count": null,
      "outputs": []
    },
    {
      "metadata": {
        "id": "5y3QTLsh4CZ8"
      },
      "cell_type": "markdown",
      "source": [
        "# 6. Discussion <a class=\"anchor\" id=\"Discussion\"></a>\t\n",
        "\n",
        "Discussion\n",
        "- This is probably the longest writing section. \n",
        "- It brings everything together, showing how your findings respond to the brief you explained in your introduction and the previous research you surveyed in your literature review. \n",
        "- This is the place to mention if there were any problems (e.g. your results were different from expectations, you couldn’t find important data, or you had to change your method or participants) and how they were, or could have been, solved.\n",
        "- Interpret the models according to your domain knowledge, your data mining success criteria and your desired test design. \n",
        "- Judge the success of the application of modelling and discovery techniques technically, then in the business context. \n",
        "\n",
        "\n"
      ]
    },
    {
      "metadata": {
        "id": "X-QkDBa04CZ8"
      },
      "cell_type": "markdown",
      "source": [
        "# 7. Conclusion <a class=\"anchor\" id=\"Conclusion\"></a>\n",
        "- Should be a short section with no new arguments or evidence. \n",
        "- Sum up the main points of your research. How do they answer the original brief for the work reported on? This section may also include: \n",
        "    - Recommendations for action \n",
        "    - Suggestions for further research "
      ]
    },
    {
      "metadata": {
        "id": "FtalTo0a4CZ8"
      },
      "cell_type": "markdown",
      "source": [
        "# 8. Reference List/Bibliography <a class=\"anchor\" id=\"Reference\"></a>\n",
        "\n",
        "- List full details for any works you have referred to in the report. \n",
        "- For the correct style of referencing to use, check college guidelines.  \n",
        "- If you are uncertain about how or when to reference, see the college library referencing guide.\n"
      ]
    },
    {
      "metadata": {
        "trusted": true,
        "id": "M07zD7RI4CZ8"
      },
      "cell_type": "code",
      "source": [],
      "execution_count": null,
      "outputs": []
    },
    {
      "metadata": {
        "trusted": true,
        "id": "Rks2GTdU4CZ8"
      },
      "cell_type": "code",
      "source": [],
      "execution_count": null,
      "outputs": []
    },
    {
      "metadata": {
        "trusted": true,
        "id": "72SHhXsY4CZ8"
      },
      "cell_type": "code",
      "source": [],
      "execution_count": null,
      "outputs": []
    }
  ],
  "metadata": {
    "kernelspec": {
      "name": "python3",
      "display_name": "Python 3",
      "language": "python"
    },
    "language_info": {
      "mimetype": "text/x-python",
      "nbconvert_exporter": "python",
      "name": "python",
      "pygments_lexer": "ipython3",
      "version": "3.5.4",
      "file_extension": ".py",
      "codemirror_mode": {
        "version": 3,
        "name": "ipython"
      }
    },
    "colab": {
      "provenance": [],
      "collapsed_sections": [
        "3IZ1J3ti4CZx",
        "SjVBmi-x4CZy",
        "SkGFbvmC4CZz",
        "xYMIMKDO4CZ0",
        "AOZd-fj94CZ2",
        "sT-1U8hq4CZ3",
        "l_WTB0qi4CZ4",
        "hjTNYkwe4CZ4",
        "dUb7Igk64CZ5"
      ]
    }
  },
  "nbformat": 4,
  "nbformat_minor": 0
}